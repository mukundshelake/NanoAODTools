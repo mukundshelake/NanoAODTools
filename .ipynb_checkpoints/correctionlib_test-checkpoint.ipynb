{
 "cells": [
  {
   "cell_type": "code",
   "execution_count": null,
   "metadata": {},
   "outputs": [
    {
     "ename": "",
     "evalue": "",
     "output_type": "error",
     "traceback": [
      "\u001b[1;31mFailed to start the Kernel. \n",
      "\u001b[1;31mJupyter Server crashed. Unable to connect. \n",
      "\u001b[1;31mError code from Jupyter: 1\n",
      "\u001b[1;31mTraceback (most recent call last):\n",
      "\u001b[1;31m  File \"/home/mukund/.local/bin/jupyter-notebook\", line 5, in <module>\n",
      "\u001b[1;31m    from notebook.app import main\n",
      "\u001b[1;31m  File \"/home/mukund/.local/lib/python3.8/site-packages/notebook/app.py\", line 20, in <module>\n",
      "\u001b[1;31m    from jupyterlab.commands import (  # type:ignore[import-untyped]\n",
      "\u001b[1;31m  File \"/home/mukund/.local/lib/python3.8/site-packages/jupyterlab/__init__.py\", line 8, in <module>\n",
      "\u001b[1;31m    from .handlers.announcements import (\n",
      "\u001b[1;31m  File \"/home/mukund/.local/lib/python3.8/site-packages/jupyterlab/handlers/announcements.py\", line 15, in <module>\n",
      "\u001b[1;31m    from jupyterlab_server.translation_utils import translator\n",
      "\u001b[1;31m  File \"/home/mukund/.local/lib/python3.8/site-packages/jupyterlab_server/__init__.py\", line 6, in <module>\n",
      "\u001b[1;31m    from .app import LabServerApp\n",
      "\u001b[1;31m  File \"/home/mukund/.local/lib/python3.8/site-packages/jupyterlab_server/app.py\", line 15, in <module>\n",
      "\u001b[1;31m    from .handlers import LabConfig, add_handlers\n",
      "\u001b[1;31m  File \"/home/mukund/.local/lib/python3.8/site-packages/jupyterlab_server/handlers.py\", line 21, in <module>\n",
      "\u001b[1;31m    from .listings_handler import ListingsHandler, fetch_listings\n",
      "\u001b[1;31m  File \"/home/mukund/.local/lib/python3.8/site-packages/jupyterlab_server/listings_handler.py\", line 10, in <module>\n",
      "\u001b[1;31m    import requests\n",
      "\u001b[1;31m  File \"/home/mukund/.local/lib/python3.8/site-packages/requests/__init__.py\", line 43, in <module>\n",
      "\u001b[1;31m    import urllib3\n",
      "\u001b[1;31m  File \"/home/mukund/.local/lib/python3.8/site-packages/urllib3/__init__.py\", line 42, in <module>\n",
      "\u001b[1;31m    raise ImportError(\n",
      "\u001b[1;31mImportError: urllib3 v2 only supports OpenSSL 1.1.1+, currently the 'ssl' module is compiled with 'OpenSSL 1.0.2k-fips  26 Jan 2017'. See: https://github.com/urllib3/urllib3/issues/2168. \n",
      "\u001b[1;31mView Jupyter <a href='command:jupyter.viewOutput'>log</a> for further details."
     ]
    }
   ],
   "source": [
    "print(Hello)"
   ]
  },
  {
   "cell_type": "code",
   "execution_count": null,
   "metadata": {},
   "outputs": [],
   "source": []
  }
 ],
 "metadata": {
  "kernelspec": {
   "display_name": "newcoffea",
   "language": "python",
   "name": "python3"
  },
  "language_info": {
   "name": "python",
   "version": "3.11.8"
  }
 },
 "nbformat": 4,
 "nbformat_minor": 2
}
