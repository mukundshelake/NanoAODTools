{
 "cells": [
  {
   "cell_type": "code",
   "execution_count": 5,
   "metadata": {},
   "outputs": [
    {
     "name": "stdout",
     "output_type": "stream",
     "text": [
      "['nGenPart', 'GenPart_eta', 'GenPart_mass', 'GenPart_phi', 'GenPart_pt', 'GenPart_pdgId', 'Generator_weight', 'Generator_x1', 'Generator_x2', 'Generator_xpdf1', 'Generator_xpdf2', 'Generator_id1', 'Generator_id2', 'LHEWeight_originalXWGTUP', 'nJet', 'Jet_area', 'Jet_btagDeepFlavB', 'Jet_eta', 'Jet_mass', 'Jet_phi', 'Jet_pt', 'Jet_rawFactor', 'Jet_jetId', 'Jet_puId', 'L1PreFiringWeight_Dn', 'L1PreFiringWeight_Nom', 'L1PreFiringWeight_Up', 'MET_phi', 'MET_pt', 'nMuon', 'Muon_eta', 'Muon_mass', 'Muon_pfRelIso04_all', 'Muon_phi', 'Muon_pt', 'Muon_charge', 'Muon_isGlobal', 'Muon_isTracker', 'Muon_looseId', 'Muon_mediumId', 'Muon_tightId', 'RawMET_phi', 'RawMET_pt', 'Jet_genJetIdx', 'Jet_hadronFlavour', 'Jet_partonFlavour', 'Flag_HBHENoiseFilter', 'Flag_HBHENoiseIsoFilter', 'Flag_CSCTightHaloFilter', 'Flag_CSCTightHaloTrkMuUnvetoFilter', 'Flag_CSCTightHalo2015Filter', 'Flag_globalTightHalo2016Filter', 'Flag_globalSuperTightHalo2016Filter', 'Flag_HcalStripHaloFilter', 'Flag_hcalLaserEventFilter', 'Flag_EcalDeadCellTriggerPrimitiveFilter', 'Flag_EcalDeadCellBoundaryEnergyFilter', 'Flag_ecalBadCalibFilter', 'Flag_goodVertices', 'Flag_eeBadScFilter', 'Flag_ecalLaserCorrFilter', 'Flag_trkPOGFilters', 'Flag_chargedHadronTrackResolutionFilter', 'Flag_muonBadTrackFilter', 'Flag_BadChargedCandidateFilter', 'Flag_BadPFMuonFilter', 'Flag_BadPFMuonDzFilter', 'Flag_hfNoisyHitsFilter', 'Flag_BadChargedCandidateSummer16Filter', 'Flag_BadPFMuonSummer16Filter', 'Flag_trkPOG_manystripclus53X', 'Flag_trkPOG_toomanystripclus53X', 'Flag_trkPOG_logErrorTooManyClusters', 'Flag_METFilters', 'HLT_Ele27_WPTight_Gsf', 'HLT_Ele27_WPTight_Gsf_L1JetTauSeeded', 'HLT_Ele27_eta2p1_WPTight_Gsf', 'HLT_Ele32_WPTight_Gsf', 'HLT_Ele32_eta2p1_WPTight_Gsf', 'HLT_IsoMu20', 'HLT_IsoMu24', 'HLT_IsoMu27', 'HLT_IsoTkMu20', 'HLT_IsoTkMu24', 'HLT_IsoTkMu27', 'puWeight', 'puWeightUp', 'puWeightDown', 'LHEWeightSign', 'MuonIDWeight', 'MuonIDWeightUp', 'MuonIDWeightDown', 'MuonHLTWeight']\n",
      "[0.97, 0.969, 0.969, 0.993, 0.99, 0.993, ..., 0.949, 0.99, 0.961, 0.969, 0.97]\n",
      "✅ Everything looks correct!\n"
     ]
    }
   ],
   "source": [
    "import uproot\n",
    "import numpy as np\n",
    "\n",
    "file = uproot.open(\"/home/mukund/Projects/SkimandSlim/NanoAODTools/outputs/tree_1_Skim_Skim.root\")\n",
    "tree = file[\"Events\"]\n",
    "print(tree.keys())\n",
    "\n",
    "# lhe_weight = tree[\"LHEWeight_originalXWGTUP\"].array()\n",
    "lhe_sign = tree[\"MuonHLTWeight\"].array()\n",
    "print(lhe_sign)\n",
    "\n",
    "# # Ensure lhe_sign and lhe_weight are NumPy arrays\n",
    "# lhe_sign = np.array(lhe_sign)\n",
    "# lhe_weight = np.array(lhe_weight)\n",
    "\n",
    "# # Quick check\n",
    "# print(\"First 10 events:\")\n",
    "# for w, s in zip(lhe_weight[:10], lhe_sign[:10]):\n",
    "#     print(f\"LHEWeight: {w}, LHEWeightSign: {s}, Expected: {w/abs(w) if w != 0 else 0}\")\n",
    "\n",
    "# # Verify all values match expectation\n",
    "# assert (lhe_sign == (lhe_weight / np.abs(lhe_weight))).all(), \"Mismatch in LHEWeightSign calculation!\"\n",
    "print(\"✅ Everything looks correct!\")\n"
   ]
  },
  {
   "cell_type": "code",
   "execution_count": null,
   "metadata": {},
   "outputs": [],
   "source": []
  }
 ],
 "metadata": {
  "kernelspec": {
   "display_name": "newcoffea",
   "language": "python",
   "name": "python3"
  },
  "language_info": {
   "codemirror_mode": {
    "name": "ipython",
    "version": 3
   },
   "file_extension": ".py",
   "mimetype": "text/x-python",
   "name": "python",
   "nbconvert_exporter": "python",
   "pygments_lexer": "ipython3",
   "version": "3.11.8"
  }
 },
 "nbformat": 4,
 "nbformat_minor": 2
}
