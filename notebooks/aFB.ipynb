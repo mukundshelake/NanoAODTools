{
 "cells": [
  {
   "cell_type": "code",
   "execution_count": 1,
   "metadata": {},
   "outputs": [],
   "source": [
    "rootFile = '/mnt/disk1/skimmed_Run2/reco/testing/UL2018/MC_mu/ttbar_SemiLeptonic/tree_310_Skim_Skim_Skim.root'"
   ]
  },
  {
   "cell_type": "code",
   "execution_count": 2,
   "metadata": {},
   "outputs": [
    {
     "name": "stdout",
     "output_type": "stream",
     "text": [
      "Welcome to JupyROOT 6.30/04\n"
     ]
    }
   ],
   "source": [
    "## Calculating A_FB\n",
    "import ROOT, uproot, numpy as np\n",
    "import matplotlib.pyplot as plt"
   ]
  },
  {
   "cell_type": "code",
   "execution_count": 3,
   "metadata": {},
   "outputs": [
    {
     "name": "stdout",
     "output_type": "stream",
     "text": [
      "['run', 'luminosityBlock', 'event', 'nGenPart', 'GenPart_eta', 'GenPart_mass', 'GenPart_phi', 'GenPart_pt', 'GenPart_genPartIdxMother', 'GenPart_pdgId', 'GenPart_status', 'GenPart_statusFlags', 'Generator_weight', 'Generator_x1', 'Generator_x2', 'Generator_xpdf1', 'Generator_xpdf2', 'Generator_id1', 'Generator_id2', 'LHEWeight_originalXWGTUP', 'nLHEPdfWeight', 'LHEPdfWeight', 'nLHEScaleWeight', 'LHEScaleWeight', 'nPSWeight', 'PSWeight', 'nJet', 'Jet_area', 'Jet_btagDeepFlavB', 'Jet_eta', 'Jet_mass', 'Jet_phi', 'Jet_pt', 'Jet_rawFactor', 'Jet_jetId', 'Jet_puId', 'L1PreFiringWeight_Dn', 'L1PreFiringWeight_Nom', 'L1PreFiringWeight_Up', 'MET_phi', 'MET_pt', 'nMuon', 'Muon_eta', 'Muon_mass', 'Muon_pfRelIso04_all', 'Muon_phi', 'Muon_pt', 'Muon_charge', 'Muon_isGlobal', 'Muon_isTracker', 'Muon_looseId', 'Muon_mediumId', 'Muon_tightId', 'RawMET_phi', 'RawMET_pt', 'Jet_genJetIdx', 'Jet_hadronFlavour', 'Jet_partonFlavour', 'Flag_HBHENoiseFilter', 'Flag_HBHENoiseIsoFilter', 'Flag_CSCTightHaloFilter', 'Flag_CSCTightHaloTrkMuUnvetoFilter', 'Flag_CSCTightHalo2015Filter', 'Flag_globalTightHalo2016Filter', 'Flag_globalSuperTightHalo2016Filter', 'Flag_HcalStripHaloFilter', 'Flag_hcalLaserEventFilter', 'Flag_EcalDeadCellTriggerPrimitiveFilter', 'Flag_EcalDeadCellBoundaryEnergyFilter', 'Flag_ecalBadCalibFilter', 'Flag_goodVertices', 'Flag_eeBadScFilter', 'Flag_ecalLaserCorrFilter', 'Flag_trkPOGFilters', 'Flag_chargedHadronTrackResolutionFilter', 'Flag_muonBadTrackFilter', 'Flag_BadChargedCandidateFilter', 'Flag_BadPFMuonFilter', 'Flag_BadPFMuonDzFilter', 'Flag_hfNoisyHitsFilter', 'Flag_BadChargedCandidateSummer16Filter', 'Flag_BadPFMuonSummer16Filter', 'Flag_trkPOG_manystripclus53X', 'Flag_trkPOG_toomanystripclus53X', 'Flag_trkPOG_logErrorTooManyClusters', 'Flag_METFilters', 'HLT_Ele27_WPTight_Gsf', 'HLT_Ele28_WPTight_Gsf', 'HLT_Ele32_WPTight_Gsf', 'HLT_Ele35_WPTight_Gsf', 'HLT_Ele35_WPTight_Gsf_L1EGMT', 'HLT_Ele38_WPTight_Gsf', 'HLT_Ele32_WPTight_Gsf_L1DoubleEG', 'HLT_IsoMu20_eta2p1_LooseChargedIsoPFTauHPS27_eta2p1_CrossL1', 'HLT_IsoMu20_eta2p1_MediumChargedIsoPFTauHPS27_eta2p1_CrossL1', 'HLT_IsoMu20_eta2p1_TightChargedIsoPFTauHPS27_eta2p1_CrossL1', 'HLT_IsoMu20_eta2p1_LooseChargedIsoPFTauHPS27_eta2p1_TightID_CrossL1', 'HLT_IsoMu20_eta2p1_MediumChargedIsoPFTauHPS27_eta2p1_TightID_CrossL1', 'HLT_IsoMu20_eta2p1_TightChargedIsoPFTauHPS27_eta2p1_TightID_CrossL1', 'HLT_IsoMu24_eta2p1_TightChargedIsoPFTauHPS35_Trk1_eta2p1_Reg_CrossL1', 'HLT_IsoMu24_eta2p1_MediumChargedIsoPFTauHPS35_Trk1_TightID_eta2p1_Reg_CrossL1', 'HLT_IsoMu24_eta2p1_TightChargedIsoPFTauHPS35_Trk1_TightID_eta2p1_Reg_CrossL1', 'HLT_IsoMu24_eta2p1_MediumChargedIsoPFTauHPS35_Trk1_eta2p1_Reg_CrossL1', 'HLT_IsoMu27_LooseChargedIsoPFTauHPS20_Trk1_eta2p1_SingleL1', 'HLT_IsoMu27_MediumChargedIsoPFTauHPS20_Trk1_eta2p1_SingleL1', 'HLT_IsoMu27_TightChargedIsoPFTauHPS20_Trk1_eta2p1_SingleL1', 'HLT_IsoMu20', 'HLT_IsoMu24', 'HLT_IsoMu24_eta2p1', 'HLT_IsoMu27', 'HLT_IsoMu30', 'HLT_IsoMu24_TwoProngs35', 'HLT_Ele30_eta2p1_WPTight_Gsf_CentralPFJet35_EleCleaned', 'HLT_IsoMu24_eta2p1_MediumChargedIsoPFTau50_Trk30_eta2p1_1pr', 'HLT_IsoMu27_MET90', 'puWeight', 'puWeightUp', 'puWeightDown', 'LHEWeightSign', 'MuonIDWeight', 'MuonIDWeightUp', 'MuonIDWeightDown', 'MuonHLTWeight', 'MuonHLTWeightStat', 'MuonHLTWeightSyst', 'bTaggingWeight', 'bTaggingWeightUp', 'bTaggingWeightDown', 'jetPUIdWeight', 'jetPUIdWeightUp', 'jetPUIdWeightDown', 'Top_lep_pt', 'Top_lep_eta', 'Top_lep_phi', 'Top_lep_mass', 'Top_had_pt', 'Top_had_eta', 'Top_had_phi', 'Top_had_mass', 'Chi2_prefit', 'Chi2', 'Pgof', 'chi2_status']\n"
     ]
    }
   ],
   "source": [
    "# Load the ROOT file and access the tree\n",
    "with uproot.open(rootFile) as file:\n",
    "    tree = file[\"Events\"]\n",
    "    print(tree.keys())\n",
    "\n",
    "    # Extract the relevant branches\n",
    "    top_lep_pt = tree[\"Top_lep_pt\"].array()\n",
    "    top_lep_eta = tree[\"Top_lep_eta\"].array()\n",
    "    top_lep_phi = tree[\"Top_lep_phi\"].array()\n",
    "    top_lep_mass = tree[\"Top_lep_mass\"].array()\n",
    "\n",
    "    top_had_pt = tree[\"Top_had_pt\"].array()\n",
    "    top_had_eta = tree[\"Top_had_eta\"].array()\n",
    "    top_had_phi = tree[\"Top_had_phi\"].array()\n",
    "    top_had_mass = tree[\"Top_had_mass\"].array()\n",
    "\n",
    "    lep_charge = tree[\"Muon_charge\"].array(library=\"ak\")\n",
    "    lep_pt = tree[\"Muon_pt\"].array(library=\"ak\")\n",
    "    lep_eta = tree[\"Muon_eta\"].array(library=\"ak\")\n",
    "    lep_istight = tree[\"Muon_tightId\"].array(library=\"ak\")\n",
    "    lep_iso = tree[\"Muon_pfRelIso04_all\"].array(library=\"ak\")\n",
    "\n",
    "    genPDGId = tree[\"GenPart_pdgId\"].array(library=\"ak\")\n",
    "    genPt = tree[\"GenPart_pt\"].array(library=\"ak\")\n",
    "    genEta = tree[\"GenPart_eta\"].array(library=\"ak\")\n",
    "    genPhi = tree[\"GenPart_phi\"].array(library=\"ak\")"
   ]
  },
  {
   "cell_type": "code",
   "execution_count": 4,
   "metadata": {},
   "outputs": [],
   "source": [
    "import awkward as ak\n",
    "# Muon charge = charge of highest pt muon\n",
    "mask = (\n",
    "    (lep_pt > 27)\n",
    "    & (abs(lep_eta) < 2.4)\n",
    "    & (lep_istight)\n",
    "    & (lep_iso < 0.06)\n",
    ")\n",
    "\n",
    "# Apply mask\n",
    "selected_muons = ak.mask(lep_pt, mask)  # keep structure consistent\n",
    "\n",
    "# Get index of highest-pt muon per event\n",
    "# (ak.argmax returns -1 if no element passes, so handle that)\n",
    "leading_idx = ak.argmax(selected_muons, axis=1, keepdims=True)\n",
    "\n",
    "# Select charge of that muon\n",
    "leading_mu_charge = lep_charge[leading_idx]\n",
    "\n",
    "# Optionally: flatten to a 1D array (each event → single charge)\n",
    "leading_mu_charge = ak.fill_none(ak.flatten(leading_mu_charge), 0)"
   ]
  },
  {
   "cell_type": "code",
   "execution_count": 5,
   "metadata": {},
   "outputs": [
    {
     "data": {
      "text/plain": [
       "<Array [1, -1, -1, 1, 1, ... 1, 1, 1, -1, 1] type='39002 * int64'>"
      ]
     },
     "execution_count": 5,
     "metadata": {},
     "output_type": "execute_result"
    }
   ],
   "source": [
    "leading_mu_charge "
   ]
  },
  {
   "cell_type": "code",
   "execution_count": 6,
   "metadata": {},
   "outputs": [
    {
     "name": "stdout",
     "output_type": "stream",
     "text": [
      "Event 0:,(1, <Array [54.4] type='1 * float32'>, <Array [1.06] type='1 * float32'>, <Array [True] type='1 * bool'>, <Array [0] type='1 * float32'>, <Array [1] type='1 * int32'>)\n",
      "Event 1:,(-1, <Array [68.9, 7.1, 4.42] type='3 * float32'>, <Array [-1.16, 0.613, 0.389] type='3 * float32'>, <Array [True, True, False] type='3 * bool'>, <Array [0, 11.5, 27.1] type='3 * float32'>, <Array [-1, 1, -1] type='3 * int32'>)\n",
      "Event 2:,(-1, <Array [44.3] type='1 * float32'>, <Array [-0.204] type='1 * float32'>, <Array [True] type='1 * bool'>, <Array [0] type='1 * float32'>, <Array [-1] type='1 * int32'>)\n",
      "Event 3:,(1, <Array [32] type='1 * float32'>, <Array [1.13] type='1 * float32'>, <Array [True] type='1 * bool'>, <Array [0] type='1 * float32'>, <Array [1] type='1 * int32'>)\n",
      "Event 4:,(1, <Array [52.8] type='1 * float32'>, <Array [-0.141] type='1 * float32'>, <Array [True] type='1 * bool'>, <Array [0.00452] type='1 * float32'>, <Array [1] type='1 * int32'>)\n",
      "Event 5:,(-1, <Array [83.4] type='1 * float32'>, <Array [0.0162] type='1 * float32'>, <Array [True] type='1 * bool'>, <Array [0.0575] type='1 * float32'>, <Array [-1] type='1 * int32'>)\n",
      "Event 6:,(-1, <Array [39.9, 30.6, 19.1] type='3 * float32'>, <Array [1.29, 0.446, 0.476] type='3 * float32'>, <Array [True, True, False] type='3 * bool'>, <Array [0, 1.38, 1.21] type='3 * float32'>, <Array [-1, -1, -1] type='3 * int32'>)\n",
      "Event 7:,(-1, <Array [38.4, 3.54] type='2 * float32'>, <Array [-0.346, -0.589] type='2 * float32'>, <Array [True, False] type='2 * bool'>, <Array [0.0107, 5.03] type='2 * float32'>, <Array [-1, -1] type='2 * int32'>)\n",
      "Event 8:,(1, <Array [48.8] type='1 * float32'>, <Array [0.659] type='1 * float32'>, <Array [True] type='1 * bool'>, <Array [0] type='1 * float32'>, <Array [1] type='1 * int32'>)\n",
      "Event 9:,(-1, <Array [55.3] type='1 * float32'>, <Array [-0.252] type='1 * float32'>, <Array [True] type='1 * bool'>, <Array [0.00486] type='1 * float32'>, <Array [-1] type='1 * int32'>)\n"
     ]
    }
   ],
   "source": [
    "for i in range(10):\n",
    "    print(f\"Event {i}:,{leading_mu_charge[i],  lep_pt[i], lep_eta[i], lep_istight[i], lep_iso[i], lep_charge[i]}\")\n"
   ]
  },
  {
   "cell_type": "code",
   "execution_count": 7,
   "metadata": {},
   "outputs": [
    {
     "name": "stdout",
     "output_type": "stream",
     "text": [
      "[83.3, 101, 166, 73.7, 58.7, 49.2, 75.3, ... 18.7, 36.8, 67.3, 66, 131, 192, 71.2] [54.3, 182, 104, 17.5, 68.3, 120, 122, ... 67.2, 91.4, 31.2, 152, 31.3, 288, 49.7]\n"
     ]
    }
   ],
   "source": [
    "# --- Determine top / anti-top assignment ---\n",
    "is_positive = leading_mu_charge > 0\n",
    "\n",
    "Top_pt   = ak.where(is_positive, top_lep_pt,   top_had_pt)\n",
    "Top_eta  = ak.where(is_positive, top_lep_eta,  top_had_eta)\n",
    "Top_phi  = ak.where(is_positive, top_lep_phi,  top_had_phi)\n",
    "Top_mass = ak.where(is_positive, top_lep_mass, top_had_mass)\n",
    "\n",
    "antiTop_pt   = ak.where(is_positive, top_had_pt,   top_lep_pt)\n",
    "antiTop_eta  = ak.where(is_positive, top_had_eta,  top_lep_eta)\n",
    "antiTop_phi  = ak.where(is_positive, top_had_phi,  top_lep_phi)\n",
    "antiTop_mass = ak.where(is_positive, top_had_mass, top_lep_mass)\n",
    "\n",
    "print(Top_pt, antiTop_pt)"
   ]
  },
  {
   "cell_type": "code",
   "execution_count": 8,
   "metadata": {},
   "outputs": [],
   "source": [
    "def to_cartesian(pt, eta, phi, mass):\n",
    "    px = pt * np.cos(phi)\n",
    "    py = pt * np.sin(phi)\n",
    "    pz = pt * np.sinh(eta)\n",
    "    E  = np.sqrt(px**2 + py**2 + pz**2 + mass**2)\n",
    "    return px, py, pz, E\n",
    "\n",
    "# Top and antiTop 4-vectors\n",
    "Top_px, Top_py, Top_pz, Top_E = to_cartesian(Top_pt, Top_eta, Top_phi, Top_mass)\n",
    "antiTop_px, antiTop_py, antiTop_pz, antiTop_E = to_cartesian(antiTop_pt, antiTop_eta, antiTop_phi, antiTop_mass)\n",
    "\n",
    "# ---- Combine and compute invariant mass ----\n",
    "ttbar_E  = Top_E + antiTop_E\n",
    "ttbar_px = Top_px + antiTop_px\n",
    "ttbar_py = Top_py + antiTop_py\n",
    "ttbar_pz = Top_pz + antiTop_pz\n",
    "\n",
    "ttbar_mass = np.sqrt(np.maximum(ttbar_E**2 - ttbar_px**2 - ttbar_py**2 - ttbar_pz**2, 0))\n"
   ]
  },
  {
   "cell_type": "code",
   "execution_count": 25,
   "metadata": {},
   "outputs": [
    {
     "data": {
      "text/plain": [
       "<Array [56.3, -304, -333, ... -1.75e+03, -47.1] type='39002 * float32'>"
      ]
     },
     "execution_count": 25,
     "metadata": {},
     "output_type": "execute_result"
    }
   ],
   "source": [
    "ttbar_pz"
   ]
  },
  {
   "cell_type": "code",
   "execution_count": 9,
   "metadata": {},
   "outputs": [],
   "source": [
    "Cos_ = Top_pz * ttbar_pz"
   ]
  },
  {
   "cell_type": "code",
   "execution_count": 10,
   "metadata": {},
   "outputs": [],
   "source": [
    "Nplus = np.sum(Cos_ > 0)\n",
    "Nminus = np.sum(Cos_ < 0)"
   ]
  },
  {
   "cell_type": "code",
   "execution_count": 11,
   "metadata": {},
   "outputs": [],
   "source": [
    "aFB = (Nplus - Nminus) / (Nplus + Nminus)"
   ]
  },
  {
   "cell_type": "code",
   "execution_count": 12,
   "metadata": {},
   "outputs": [
    {
     "data": {
      "text/plain": [
       "0.7244756679144659"
      ]
     },
     "execution_count": 12,
     "metadata": {},
     "output_type": "execute_result"
    }
   ],
   "source": [
    "aFB "
   ]
  },
  {
   "cell_type": "code",
   "execution_count": 13,
   "metadata": {},
   "outputs": [
    {
     "name": "stdout",
     "output_type": "stream",
     "text": [
      "[False, False, False, False, False, False, ... False, False, False, False, False]\n"
     ]
    }
   ],
   "source": [
    "# Compute the sum of the first two pdgIds per event\n",
    "sum_first_two = ak.sum(genPDGId[:, :2], axis=1)\n",
    "\n",
    "# qqbar if sum == 0 (e.g., 2 + (-2), 4 + (-4), etc.)\n",
    "qqbar_mask = (sum_first_two == 0)\n",
    "gg_mask = (sum_first_two == 42)\n",
    "qg_mask = (sum_first_two > 14) & (sum_first_two < 29)\n",
    "\n",
    "print(qqbar_mask)"
   ]
  },
  {
   "cell_type": "code",
   "execution_count": 14,
   "metadata": {},
   "outputs": [],
   "source": [
    "selEvents_q1_id = genPDGId[qqbar_mask][:, 0]"
   ]
  },
  {
   "cell_type": "code",
   "execution_count": 15,
   "metadata": {},
   "outputs": [],
   "source": [
    "q_dir = ak.where(selEvents_q1_id > 0, 1, -1)"
   ]
  },
  {
   "cell_type": "code",
   "execution_count": 16,
   "metadata": {},
   "outputs": [],
   "source": [
    "sel_ttbar_pz = ttbar_pz[qqbar_mask]"
   ]
  },
  {
   "cell_type": "code",
   "execution_count": 17,
   "metadata": {},
   "outputs": [],
   "source": [
    "assign = q_dir * sel_ttbar_pz"
   ]
  },
  {
   "cell_type": "code",
   "execution_count": 18,
   "metadata": {},
   "outputs": [
    {
     "data": {
      "text/plain": [
       "0.6875567665758402"
      ]
     },
     "execution_count": 18,
     "metadata": {},
     "output_type": "execute_result"
    }
   ],
   "source": [
    "sum(assign > 0)/len(assign)"
   ]
  },
  {
   "cell_type": "code",
   "execution_count": 19,
   "metadata": {},
   "outputs": [],
   "source": [
    "cos_theta = Cos_[qqbar_mask]"
   ]
  },
  {
   "cell_type": "code",
   "execution_count": 20,
   "metadata": {},
   "outputs": [],
   "source": [
    "Nplus_ = np.sum(cos_theta > 0)\n",
    "Nminus_ = np.sum(cos_theta < 0)\n",
    "\n",
    "aFB_ = (Nplus_ - Nminus_) / (Nplus_ + Nminus_)"
   ]
  },
  {
   "cell_type": "code",
   "execution_count": 21,
   "metadata": {},
   "outputs": [
    {
     "data": {
      "text/plain": [
       "0.8038147138964578"
      ]
     },
     "execution_count": 21,
     "metadata": {},
     "output_type": "execute_result"
    }
   ],
   "source": [
    "aFB_"
   ]
  }
 ],
 "metadata": {
  "kernelspec": {
   "display_name": "newcoffea",
   "language": "python",
   "name": "python3"
  },
  "language_info": {
   "codemirror_mode": {
    "name": "ipython",
    "version": 3
   },
   "file_extension": ".py",
   "mimetype": "text/x-python",
   "name": "python",
   "nbconvert_exporter": "python",
   "pygments_lexer": "ipython3",
   "version": "3.11.8"
  }
 },
 "nbformat": 4,
 "nbformat_minor": 2
}
