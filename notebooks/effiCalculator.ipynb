{
 "cells": [
  {
   "cell_type": "code",
   "execution_count": 36,
   "metadata": {},
   "outputs": [],
   "source": [
    "config_jetPUID = {\n",
    "    'UL2016preVFP': {\n",
    "        'LMT' : int(7),\n",
    "        'LM'  : int(3),\n",
    "        'L'   : int(1),\n",
    "        'n'   : int(0),\n",
    "    },\n",
    "    'UL2016postVFP': {\n",
    "        'LMT' : int(7),\n",
    "        'LM'  : int(3),\n",
    "        'L'   : int(1),\n",
    "        'n'   : int(0),\n",
    "    },\n",
    "    'UL2017': {\n",
    "        'LMT' : int(7),\n",
    "        'LM'  : int(6),\n",
    "        'L'   : int(4),\n",
    "        'n'   : int(0),\n",
    "    },\n",
    "    'UL2018': {\n",
    "        'LMT' : int(7),\n",
    "        'LM'  : int(6),\n",
    "        'L'   : int(4),\n",
    "        'n'   : int(0),\n",
    "    }\n",
    "}"
   ]
  },
  {
   "cell_type": "code",
   "execution_count": 37,
   "metadata": {},
   "outputs": [],
   "source": [
    "# Load the skimmed datasets\n",
    "import json\n",
    "\n",
    "era = 'UL2016preVFP'\n",
    "jsonFile = f'/home/mukund/Projects/updatedCoffea/Coffea_Analysis/src/Datasets/skimmed_dataFiles_{era}.json'\n",
    "with open(jsonFile) as f:\n",
    "    dataFiles = json.load(f)"
   ]
  },
  {
   "cell_type": "code",
   "execution_count": 38,
   "metadata": {},
   "outputs": [],
   "source": [
    "import uproot\n",
    "import awkward as ak\n",
    "\n",
    "effi = {}\n",
    "for process, files in dataFiles['MC_mu'].items():\n",
    "    effi[process] = {}\n",
    "    nTotal = 0\n",
    "    nTight = 0\n",
    "    nMedium = 0\n",
    "    nLoose = 0\n",
    "    for file in files:\n",
    "        with uproot.open(file) as f:\n",
    "            tree = f[\"Events\"]\n",
    "            jet_puid = tree['Jet_puId'].array()\n",
    "            jet_pt = tree['Jet_pt'].array()\n",
    "            mask = jet_pt < 50\n",
    "            data = jet_puid[mask]\n",
    "            nLMT = ak.sum(data == config_jetPUID[era]['LMT'])\n",
    "            nLM = ak.sum(data == config_jetPUID[era]['LM'])\n",
    "            nL = ak.sum(data == config_jetPUID[era]['L'])\n",
    "            nTight += nLMT \n",
    "            nMedium += nLM + nLMT\n",
    "            nLoose += nL + nLM + nLMT\n",
    "            nTotal += ak.count(data)\n",
    "    effi[process]['nTight'] = float(nTight)\n",
    "    effi[process]['nMedium'] = float(nMedium)\n",
    "    effi[process]['nLoose'] = float(nLoose)\n",
    "    effi[process]['nTotal'] = float(nTotal)\n"
   ]
  },
  {
   "cell_type": "code",
   "execution_count": 39,
   "metadata": {},
   "outputs": [
    {
     "data": {
      "text/plain": [
       "{'DYJetsToLL': {'nTight': 16180.0,\n",
       "  'nMedium': 20886.0,\n",
       "  'nLoose': 27302.0,\n",
       "  'nTotal': 30964.0},\n",
       " 'QCD_Pt-1000_MuEnriched': {'nTight': 20656.0,\n",
       "  'nMedium': 24828.0,\n",
       "  'nLoose': 31148.0,\n",
       "  'nTotal': 35536.0},\n",
       " 'QCD_Pt-120To170_MuEnriched': {'nTight': 3552.0,\n",
       "  'nMedium': 4212.0,\n",
       "  'nLoose': 5077.0,\n",
       "  'nTotal': 5690.0},\n",
       " 'QCD_Pt-15To20_MuEnriched': {'nTight': 0.0,\n",
       "  'nMedium': 1.0,\n",
       "  'nLoose': 2.0,\n",
       "  'nTotal': 4.0},\n",
       " 'QCD_Pt-170To300_MuEnriched': {'nTight': 13711.0,\n",
       "  'nMedium': 16318.0,\n",
       "  'nLoose': 19772.0,\n",
       "  'nTotal': 22321.0},\n",
       " 'QCD_Pt-20To30_MuEnriched': {'nTight': 1.0,\n",
       "  'nMedium': 1.0,\n",
       "  'nLoose': 3.0,\n",
       "  'nTotal': 3.0},\n",
       " 'QCD_Pt-300To470_MuEnriched': {'nTight': 20369.0,\n",
       "  'nMedium': 24235.0,\n",
       "  'nLoose': 29671.0,\n",
       "  'nTotal': 33448.0},\n",
       " 'QCD_Pt-30To50_MuEnriched': {'nTight': 29.0,\n",
       "  'nMedium': 34.0,\n",
       "  'nLoose': 38.0,\n",
       "  'nTotal': 44.0},\n",
       " 'QCD_Pt-470To600_MuEnriched': {'nTight': 20506.0,\n",
       "  'nMedium': 24427.0,\n",
       "  'nLoose': 30013.0,\n",
       "  'nTotal': 34051.0},\n",
       " 'QCD_Pt-50To80_MuEnriched': {'nTight': 205.0,\n",
       "  'nMedium': 237.0,\n",
       "  'nLoose': 291.0,\n",
       "  'nTotal': 314.0},\n",
       " 'QCD_Pt-600To800_MuEnriched': {'nTight': 24501.0,\n",
       "  'nMedium': 29370.0,\n",
       "  'nLoose': 36300.0,\n",
       "  'nTotal': 41256.0},\n",
       " 'QCD_Pt-800To1000_MuEnriched': {'nTight': 56499.0,\n",
       "  'nMedium': 67672.0,\n",
       "  'nLoose': 84524.0,\n",
       "  'nTotal': 95923.0},\n",
       " 'QCD_Pt-80To120_MuEnriched': {'nTight': 1606.0,\n",
       "  'nMedium': 1913.0,\n",
       "  'nLoose': 2324.0,\n",
       "  'nTotal': 2597.0},\n",
       " 'Schannel': {'nTight': 127705.0,\n",
       "  'nMedium': 155456.0,\n",
       "  'nLoose': 196400.0,\n",
       "  'nTotal': 220325.0},\n",
       " 'Tbarchannel': {'nTight': 259455.0,\n",
       "  'nMedium': 312834.0,\n",
       "  'nLoose': 388275.0,\n",
       "  'nTotal': 430947.0},\n",
       " 'Tchannel': {'nTight': 420186.0,\n",
       "  'nMedium': 506550.0,\n",
       "  'nLoose': 628029.0,\n",
       "  'nTotal': 696394.0},\n",
       " 'ttbar_FullyLeptonic': {'nTight': 6773326.0,\n",
       "  'nMedium': 8464864.0,\n",
       "  'nLoose': 10686222.0,\n",
       "  'nTotal': 11755125.0},\n",
       " 'ttbar_SemiLeptonic': {'nTight': 20515629.0,\n",
       "  'nMedium': 24230457.0,\n",
       "  'nLoose': 29217608.0,\n",
       "  'nTotal': 31762055.0},\n",
       " 'tw_antitop': {'nTight': 185806.0,\n",
       "  'nMedium': 222490.0,\n",
       "  'nLoose': 271610.0,\n",
       "  'nTotal': 298678.0},\n",
       " 'tw_top': {'nTight': 191649.0,\n",
       "  'nMedium': 229825.0,\n",
       "  'nLoose': 280892.0,\n",
       "  'nTotal': 308127.0},\n",
       " 'WJetsToLNu_0J': {'nTight': 124.0,\n",
       "  'nMedium': 154.0,\n",
       "  'nLoose': 244.0,\n",
       "  'nTotal': 362.0},\n",
       " 'WJetsToLNu_1J': {'nTight': 1509.0,\n",
       "  'nMedium': 1886.0,\n",
       "  'nLoose': 2664.0,\n",
       "  'nTotal': 3737.0},\n",
       " 'WJetsToLNu_2J': {'nTight': 29424.0,\n",
       "  'nMedium': 35716.0,\n",
       "  'nLoose': 44843.0,\n",
       "  'nTotal': 51143.0},\n",
       " 'WWTo2L2Nu': {'nTight': 760.0,\n",
       "  'nMedium': 934.0,\n",
       "  'nLoose': 1216.0,\n",
       "  'nTotal': 1403.0},\n",
       " 'WWTolnulnu': {'nTight': 7621.0,\n",
       "  'nMedium': 9118.0,\n",
       "  'nLoose': 11351.0,\n",
       "  'nTotal': 13237.0},\n",
       " 'WZTo2Q2L': {'nTight': 16848.0,\n",
       "  'nMedium': 21224.0,\n",
       "  'nLoose': 26987.0,\n",
       "  'nTotal': 30093.0},\n",
       " 'ZZTo2L2Nu': {'nTight': 4273.0,\n",
       "  'nMedium': 5492.0,\n",
       "  'nLoose': 7176.0,\n",
       "  'nTotal': 8140.0},\n",
       " 'ZZTo2Q2L': {'nTight': 181590.0,\n",
       "  'nMedium': 229024.0,\n",
       "  'nLoose': 289419.0,\n",
       "  'nTotal': 318537.0}}"
      ]
     },
     "execution_count": 39,
     "metadata": {},
     "output_type": "execute_result"
    }
   ],
   "source": [
    "effi"
   ]
  },
  {
   "cell_type": "code",
   "execution_count": 40,
   "metadata": {},
   "outputs": [],
   "source": [
    "output_json_file = f'/home/mukund/Projects/updatedCoffea/Coffea_Analysis/src/SFs/Efficiency/{era}/{era}_Jet_puId_effi.json'\n",
    "with open(output_json_file, 'w') as f:\n",
    "    json.dump(effi, f, indent=4)"
   ]
  },
  {
   "cell_type": "code",
   "execution_count": 41,
   "metadata": {},
   "outputs": [
    {
     "name": "stdout",
     "output_type": "stream",
     "text": [
      "DYJetsToLL 0.5225423071954528 0.6745252551349955 0.8817336261464928\n",
      "QCD_Pt-1000_MuEnriched 0.5812696983340837 0.6986717694732103 0.8765195857721747\n",
      "QCD_Pt-120To170_MuEnriched 0.6242530755711775 0.7402460456942004 0.8922671353251318\n",
      "QCD_Pt-15To20_MuEnriched 0.0 0.25 0.5\n",
      "QCD_Pt-170To300_MuEnriched 0.6142645938802025 0.7310604363603781 0.8858026074100622\n",
      "QCD_Pt-20To30_MuEnriched 0.3333333333333333 0.3333333333333333 1.0\n",
      "QCD_Pt-300To470_MuEnriched 0.6089751255680459 0.7245575221238938 0.8870784501315475\n",
      "QCD_Pt-30To50_MuEnriched 0.6590909090909091 0.7727272727272727 0.8636363636363636\n",
      "QCD_Pt-470To600_MuEnriched 0.6022143255704678 0.7173651287774221 0.8814131743561129\n",
      "QCD_Pt-50To80_MuEnriched 0.6528662420382165 0.7547770700636943 0.9267515923566879\n",
      "QCD_Pt-600To800_MuEnriched 0.5938772542175683 0.7118964514252473 0.8798720186154741\n",
      "QCD_Pt-800To1000_MuEnriched 0.5890036800350281 0.7054825224398736 0.8811651011749007\n",
      "QCD_Pt-80To120_MuEnriched 0.6184058529072006 0.7366191759722757 0.894878706199461\n",
      "Schannel 0.5796210144105299 0.7055758538522637 0.8914104164302734\n",
      "Tbarchannel 0.6020577936497992 0.7259222131723855 0.9009808630759699\n",
      "Tchannel 0.6033739521018274 0.7273899545372303 0.9018299985353119\n",
      "ttbar_FullyLeptonic 0.5762019544666688 0.7200998713327166 0.909069193224232\n",
      "ttbar_SemiLeptonic 0.6459162985518412 0.7628743480231364 0.9198903534421813\n",
      "tw_antitop 0.6220946972994328 0.7449159295294598 0.9093739746482834\n",
      "tw_top 0.6219805469822508 0.745877511545564 0.9116111213882587\n",
      "WJetsToLNu_0J 0.3425414364640884 0.425414364640884 0.6740331491712708\n",
      "WJetsToLNu_1J 0.4037998394434038 0.5046829007225047 0.7128712871287128\n",
      "WJetsToLNu_2J 0.5753280018770898 0.6983555911854995 0.8768159865475236\n",
      "WWTo2L2Nu 0.5416963649322879 0.6657163221667854 0.8667141838916608\n",
      "WWTolnulnu 0.5757346830852912 0.6888267734380902 0.8575205862355518\n",
      "WZTo2Q2L 0.5598644202970791 0.7052802977436613 0.8967866281194963\n",
      "ZZTo2L2Nu 0.524938574938575 0.6746928746928746 0.8815724815724816\n",
      "ZZTo2Q2L 0.5700750619237326 0.718987119235756 0.9085883272586858\n"
     ]
    }
   ],
   "source": [
    "for pr in effi:\n",
    "    print(pr, effi[pr]['nTight']/effi[pr]['nTotal'], effi[pr]['nMedium']/effi[pr]['nTotal'], effi[pr]['nLoose']/effi[pr]['nTotal'])"
   ]
  },
  {
   "cell_type": "code",
   "execution_count": 42,
   "metadata": {},
   "outputs": [],
   "source": [
    "filePath = \"/mnt/disk1/skimmed_Run2/UL2016preVFP/MC_mu/DYJetsToLL/tree_62_Skim.root\"\n",
    "\n",
    "with uproot.open(filePath) as f:\n",
    "    tree = f[\"Events\"]\n",
    "    puid = tree['Jet_puId'].array()\n",
    "    pt = tree['Jet_pt'].array()\n",
    "    mask = pt < 50\n",
    "    puid_masked = puid[mask]"
   ]
  },
  {
   "cell_type": "code",
   "execution_count": 43,
   "metadata": {},
   "outputs": [
    {
     "data": {
      "text/html": [
       "<pre>[[1, 7, 7, 1, 7, 7],\n",
       " [3, 7, 7, 1, 7],\n",
       " [7, 1, 7, 1, 7, 7, 1],\n",
       " [7, 3, 7, 7, 3],\n",
       " [3, 7, 7, 7, 1, 7, 7, 1],\n",
       " [7, 1, 1, 3],\n",
       " [1, 1, 0, 1, 3, 0, 3, 1],\n",
       " [7, 7, 3, 7, 1, 7],\n",
       " [1, 1, 1, 0, 1, 1, 7, 0],\n",
       " [1, 7, 7, 7],\n",
       " ...,\n",
       " [1, 7, 1, 7, 1, 7, 1, 1, 7, 7],\n",
       " [3, 3, 1, 7, 0, 1, 3],\n",
       " [3, 7, 0, 0, 0, 7],\n",
       " [3, 7, 1, 1],\n",
       " [7, 7, 3, 7, 3, 0, 1, 3, 1],\n",
       " [7, 7, 1, 7, 3, 7],\n",
       " [3, 7, 7, 7, 7, 1, 7, 7, 7],\n",
       " [1, 7, 7, 3, 3],\n",
       " [1, 7, 7, 7, 0, 1]]\n",
       "--------------------------------\n",
       "type: 133 * var * int32</pre>"
      ],
      "text/plain": [
       "<Array [[1, 7, 7, 1, 7, 7], ..., [1, 7, 7, ..., 0, 1]] type='133 * var * int32'>"
      ]
     },
     "execution_count": 43,
     "metadata": {},
     "output_type": "execute_result"
    }
   ],
   "source": [
    "puid"
   ]
  },
  {
   "cell_type": "code",
   "execution_count": 44,
   "metadata": {},
   "outputs": [
    {
     "data": {
      "text/html": [
       "<pre>[[66.6, 59, 51.7, 40.2, 31.7, 16.8],\n",
       " [71.1, 67.1, 46.4, 40, 19.2],\n",
       " [110, 50.6, 49.1, 40.6, 30.2, 17.1, 16],\n",
       " [94.2, 55.9, 54.8, 31.6, 15.4],\n",
       " [155, 97.4, 76.9, 69.9, 41, 39.5, 29.2, 26.5],\n",
       " [73.2, 45, 43.3, 33.5],\n",
       " [76.5, 64.9, 59.9, 42.5, 30.4, 24, 23.2, 15.1],\n",
       " [64.6, 62.5, 61.6, 41.6, 35.4, 22.6],\n",
       " [53.2, 42.4, 34, 32.6, 19.3, 18.3, 16.6, 15.7],\n",
       " [76.9, 49.6, 36, 34.8],\n",
       " ...,\n",
       " [124, 99.9, 47.4, 45.9, 22.2, 18.8, 18.2, 16.3, 16, 15.1],\n",
       " [58.7, 48.6, 45.7, 40.3, 28.1, 19.4, 15.8],\n",
       " [53.2, 50.8, 48.7, 39, 18.4, 16.1],\n",
       " [77.5, 51.9, 50.3, 37.8],\n",
       " [130, 74.7, 70.4, 54.2, 35.4, 17.8, 16.9, 15.7, 15.3],\n",
       " [124, 96.7, 71.8, 43.2, 42, 37.5],\n",
       " [165, 101, 92.2, 46, 44.8, 42.2, 18, 17.4, 15.8],\n",
       " [507, 374, 132, 46.5, 22.7],\n",
       " [100, 76, 39.1, 32.5, 30.1, 16.8]]\n",
       "-----------------------------------------------------------\n",
       "type: 133 * var * float32</pre>"
      ],
      "text/plain": [
       "<Array [[66.6, 59, 51.7, ..., 31.7, 16.8], ...] type='133 * var * float32'>"
      ]
     },
     "execution_count": 44,
     "metadata": {},
     "output_type": "execute_result"
    }
   ],
   "source": [
    "pt"
   ]
  },
  {
   "cell_type": "code",
   "execution_count": 45,
   "metadata": {},
   "outputs": [
    {
     "data": {
      "text/html": [
       "<pre>[[False, False, False, True, True, True],\n",
       " [False, False, True, True, True],\n",
       " [False, False, True, True, True, True, True],\n",
       " [False, False, False, True, True],\n",
       " [False, False, False, False, True, True, True, True],\n",
       " [False, True, True, True],\n",
       " [False, False, False, True, True, True, True, True],\n",
       " [False, False, False, True, True, True],\n",
       " [False, True, True, True, True, True, True, True],\n",
       " [False, True, True, True],\n",
       " ...,\n",
       " [False, False, True, True, True, True, True, True, True, True],\n",
       " [False, True, True, True, True, True, True],\n",
       " [False, False, True, True, True, True],\n",
       " [False, False, False, True],\n",
       " [False, False, False, False, True, True, True, True, True],\n",
       " [False, False, False, True, True, True],\n",
       " [False, False, False, True, True, True, True, True, True],\n",
       " [False, False, False, True, True],\n",
       " [False, False, True, True, True, True]]\n",
       "----------------------------------------------------------------\n",
       "type: 133 * var * bool</pre>"
      ],
      "text/plain": [
       "<Array [[False, False, False, ..., True, True], ...] type='133 * var * bool'>"
      ]
     },
     "execution_count": 45,
     "metadata": {},
     "output_type": "execute_result"
    }
   ],
   "source": [
    "mask"
   ]
  },
  {
   "cell_type": "code",
   "execution_count": 46,
   "metadata": {},
   "outputs": [
    {
     "data": {
      "text/html": [
       "<pre>[[1, 7, 7],\n",
       " [7, 1, 7],\n",
       " [7, 1, 7, 7, 1],\n",
       " [7, 3],\n",
       " [1, 7, 7, 1],\n",
       " [1, 1, 3],\n",
       " [1, 3, 0, 3, 1],\n",
       " [7, 1, 7],\n",
       " [1, 1, 0, 1, 1, 7, 0],\n",
       " [7, 7, 7],\n",
       " ...,\n",
       " [1, 7, 1, 7, 1, 1, 7, 7],\n",
       " [3, 1, 7, 0, 1, 3],\n",
       " [0, 0, 0, 7],\n",
       " [1],\n",
       " [3, 0, 1, 3, 1],\n",
       " [7, 3, 7],\n",
       " [7, 7, 1, 7, 7, 7],\n",
       " [3, 3],\n",
       " [7, 7, 0, 1]]\n",
       "--------------------------\n",
       "type: 133 * var * int32</pre>"
      ],
      "text/plain": [
       "<Array [[1, 7, 7], [7, 1, 7], ..., [7, 7, 0, 1]] type='133 * var * int32'>"
      ]
     },
     "execution_count": 46,
     "metadata": {},
     "output_type": "execute_result"
    }
   ],
   "source": [
    "puid_masked"
   ]
  },
  {
   "cell_type": "code",
   "execution_count": null,
   "metadata": {},
   "outputs": [],
   "source": []
  }
 ],
 "metadata": {
  "kernelspec": {
   "display_name": "newcoffea",
   "language": "python",
   "name": "python3"
  },
  "language_info": {
   "codemirror_mode": {
    "name": "ipython",
    "version": 3
   },
   "file_extension": ".py",
   "mimetype": "text/x-python",
   "name": "python",
   "nbconvert_exporter": "python",
   "pygments_lexer": "ipython3",
   "version": "3.11.8"
  }
 },
 "nbformat": 4,
 "nbformat_minor": 2
}
