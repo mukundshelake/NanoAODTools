{
 "cells": [
  {
   "cell_type": "code",
   "execution_count": 1,
   "metadata": {},
   "outputs": [],
   "source": [
    "era = \"UL2016preVFP\"\n",
    "jsonFile = \"/home/mukund/Projects/SkimandSlim/NanoAODTools/Datasets/testing_selection_UL2016preVFP_dataFiles.json\"\n"
   ]
  },
  {
   "cell_type": "code",
   "execution_count": 2,
   "metadata": {},
   "outputs": [],
   "source": [
    "# Load Sample file\n",
    "import json\n",
    "with open(jsonFile) as jsonfile:\n",
    "    data = json.load(jsonfile)\n"
   ]
  },
  {
   "cell_type": "code",
   "execution_count": 3,
   "metadata": {},
   "outputs": [
    {
     "data": {
      "text/plain": [
       "{'MC_mu': {'QCD_Pt-30To50_MuEnriched': {'/mnt/disk1/skimmed_Run2/selection/testing/UL2016preVFP/MC_mu/QCD_Pt-30To50_MuEnriched/tree_14_Skim_Skim.root': 'Events'},\n",
       "  'ttbar_SemiLeptonic': {'/mnt/disk1/skimmed_Run2/selection/testing/UL2016preVFP/MC_mu/ttbar_SemiLeptonic/tree_14_Skim_Skim.root': 'Events'},\n",
       "  'DYJetsToLL': {'/mnt/disk1/skimmed_Run2/selection/testing/UL2016preVFP/MC_mu/DYJetsToLL/tree_14_Skim_Skim.root': 'Events'},\n",
       "  'Tchannel': {'/mnt/disk1/skimmed_Run2/selection/testing/UL2016preVFP/MC_mu/Tchannel/tree_14_Skim_Skim.root': 'Events'},\n",
       "  'QCD_Pt-80To120_MuEnriched': {'/mnt/disk1/skimmed_Run2/selection/testing/UL2016preVFP/MC_mu/QCD_Pt-80To120_MuEnriched/tree_14_Skim_Skim.root': 'Events'},\n",
       "  'QCD_Pt-1000_MuEnriched': {'/mnt/disk1/skimmed_Run2/selection/testing/UL2016preVFP/MC_mu/QCD_Pt-1000_MuEnriched/tree_14_Skim_Skim.root': 'Events'},\n",
       "  'QCD_Pt-600To800_MuEnriched': {'/mnt/disk1/skimmed_Run2/selection/testing/UL2016preVFP/MC_mu/QCD_Pt-600To800_MuEnriched/tree_14_Skim_Skim.root': 'Events'},\n",
       "  'QCD_Pt-470To600_MuEnriched': {'/mnt/disk1/skimmed_Run2/selection/testing/UL2016preVFP/MC_mu/QCD_Pt-470To600_MuEnriched/tree_14_Skim_Skim.root': 'Events'},\n",
       "  'WJetsToLNu_1J': {'/mnt/disk1/skimmed_Run2/selection/testing/UL2016preVFP/MC_mu/WJetsToLNu_1J/tree_14_Skim_Skim.root': 'Events'},\n",
       "  'tw_top': {'/mnt/disk1/skimmed_Run2/selection/testing/UL2016preVFP/MC_mu/tw_top/tree_1_Skim_Skim.root': 'Events'},\n",
       "  'ZZTo2Q2L': {'/mnt/disk1/skimmed_Run2/selection/testing/UL2016preVFP/MC_mu/ZZTo2Q2L/tree_14_Skim_Skim.root': 'Events'},\n",
       "  'Schannel': {'/mnt/disk1/skimmed_Run2/selection/testing/UL2016preVFP/MC_mu/Schannel/tree_8_Skim_Skim.root': 'Events'},\n",
       "  'WZTo2Q2L': {'/mnt/disk1/skimmed_Run2/selection/testing/UL2016preVFP/MC_mu/WZTo2Q2L/tree_14_Skim_Skim.root': 'Events'},\n",
       "  'WJetsToLNu_2J': {'/mnt/disk1/skimmed_Run2/selection/testing/UL2016preVFP/MC_mu/WJetsToLNu_2J/tree_14_Skim_Skim.root': 'Events'},\n",
       "  'QCD_Pt-800To1000_MuEnriched': {'/mnt/disk1/skimmed_Run2/selection/testing/UL2016preVFP/MC_mu/QCD_Pt-800To1000_MuEnriched/tree_14_Skim_Skim.root': 'Events'},\n",
       "  'QCD_Pt-15To20_MuEnriched': {'/mnt/disk1/skimmed_Run2/selection/testing/UL2016preVFP/MC_mu/QCD_Pt-15To20_MuEnriched/tree_14_Skim_Skim.root': 'Events'},\n",
       "  'ttbar_FullyLeptonic': {'/mnt/disk1/skimmed_Run2/selection/testing/UL2016preVFP/MC_mu/ttbar_FullyLeptonic/tree_14_Skim_Skim.root': 'Events'},\n",
       "  'Tbarchannel': {'/mnt/disk1/skimmed_Run2/selection/testing/UL2016preVFP/MC_mu/Tbarchannel/tree_14_Skim_Skim.root': 'Events'},\n",
       "  'QCD_Pt-50To80_MuEnriched': {'/mnt/disk1/skimmed_Run2/selection/testing/UL2016preVFP/MC_mu/QCD_Pt-50To80_MuEnriched/tree_14_Skim_Skim.root': 'Events'},\n",
       "  'WWTolnulnu': {'/mnt/disk1/skimmed_Run2/selection/testing/UL2016preVFP/MC_mu/WWTolnulnu/tree_14_Skim_Skim.root': 'Events'},\n",
       "  'QCD_Pt-170To300_MuEnriched': {'/mnt/disk1/skimmed_Run2/selection/testing/UL2016preVFP/MC_mu/QCD_Pt-170To300_MuEnriched/tree_14_Skim_Skim.root': 'Events'},\n",
       "  'ZZTo2L2Nu': {'/mnt/disk1/skimmed_Run2/selection/testing/UL2016preVFP/MC_mu/ZZTo2L2Nu/tree_14_Skim_Skim.root': 'Events'},\n",
       "  'WWTo2L2Nu': {'/mnt/disk1/skimmed_Run2/selection/testing/UL2016preVFP/MC_mu/WWTo2L2Nu/tree_8_Skim_Skim.root': 'Events'},\n",
       "  'WJetsToLNu_0J': {'/mnt/disk1/skimmed_Run2/selection/testing/UL2016preVFP/MC_mu/WJetsToLNu_0J/tree_14_Skim_Skim.root': 'Events'},\n",
       "  'QCD_Pt-120To170_MuEnriched': {'/mnt/disk1/skimmed_Run2/selection/testing/UL2016preVFP/MC_mu/QCD_Pt-120To170_MuEnriched/tree_14_Skim_Skim.root': 'Events'},\n",
       "  'tw_antitop': {'/mnt/disk1/skimmed_Run2/selection/testing/UL2016preVFP/MC_mu/tw_antitop/tree_8_Skim_Skim.root': 'Events'},\n",
       "  'QCD_Pt-300To470_MuEnriched': {'/mnt/disk1/skimmed_Run2/selection/testing/UL2016preVFP/MC_mu/QCD_Pt-300To470_MuEnriched/tree_14_Skim_Skim.root': 'Events'},\n",
       "  'QCD_Pt-20To30_MuEnriched': {'/mnt/disk1/skimmed_Run2/selection/testing/UL2016preVFP/MC_mu/QCD_Pt-20To30_MuEnriched/tree_14_Skim_Skim.root': 'Events'}},\n",
       " 'Data_mu': {'Run2016E_HIPM_mu': {'/mnt/disk1/skimmed_Run2/selection/testing/UL2016preVFP/Data_mu/Run2016E_HIPM_mu/tree_136_Skim_Skim.root': 'Events'},\n",
       "  'Run2016C_HIPM_mu': {'/mnt/disk1/skimmed_Run2/selection/testing/UL2016preVFP/Data_mu/Run2016C_HIPM_mu/tree_32_Skim_Skim.root': 'Events'},\n",
       "  'Run2016B_ver2_mu': {'/mnt/disk1/skimmed_Run2/selection/testing/UL2016preVFP/Data_mu/Run2016B_ver2_mu/tree_136_Skim_Skim.root': 'Events'},\n",
       "  'Run2016B_ver1_mu': {'/mnt/disk1/skimmed_Run2/selection/testing/UL2016preVFP/Data_mu/Run2016B_ver1_mu/tree_1_Skim_Skim.root': 'Events'},\n",
       "  'Run2016D_HIPM_mu': {'/mnt/disk1/skimmed_Run2/selection/testing/UL2016preVFP/Data_mu/Run2016D_HIPM_mu/tree_194_Skim_Skim.root': 'Events'},\n",
       "  'Run2016F_HIPM_mu': {'/mnt/disk1/skimmed_Run2/selection/testing/UL2016preVFP/Data_mu/Run2016F_HIPM_mu/tree_66_Skim_Skim.root': 'Events'}}}"
      ]
     },
     "execution_count": 3,
     "metadata": {},
     "output_type": "execute_result"
    }
   ],
   "source": [
    "data"
   ]
  },
  {
   "cell_type": "code",
   "execution_count": 4,
   "metadata": {},
   "outputs": [
    {
     "name": "stdout",
     "output_type": "stream",
     "text": [
      "LHEWeightSign not found in QCD_Pt-20To30_MuEnriched, file has 0 events\n",
      "MuonHLTWeight not found in QCD_Pt-20To30_MuEnriched, file has 0 events\n",
      "MuonIDWeight not found in QCD_Pt-20To30_MuEnriched, file has 0 events\n",
      "bTaggingWeight not found in QCD_Pt-20To30_MuEnriched, file has 0 events\n",
      "jetPUIdWeight not found in QCD_Pt-20To30_MuEnriched, file has 0 events\n"
     ]
    }
   ],
   "source": [
    "import uproot\n",
    "# Check if \"LHEWeightSign\" is present in all the samples\n",
    "for key in data[\"MC_mu\"].keys():\n",
    "    for file in data[\"MC_mu\"][key]:\n",
    "        sampleFile = file\n",
    "        with uproot.open(sampleFile) as f:\n",
    "            if \"LHEWeightSign\" not in f[\"Events\"].keys():\n",
    "                print(f\"LHEWeightSign not found in {key}, file has {len(f['Events']['nJet'])} events\")\n",
    "            if \"MuonHLTWeight\" not in f[\"Events\"].keys():\n",
    "                print(f\"MuonHLTWeight not found in {key}, file has {len(f['Events']['nJet'])} events\")\n",
    "            if \"MuonIDWeight\" not in f[\"Events\"].keys():\n",
    "                print(f\"MuonIDWeight not found in {key}, file has {len(f['Events']['nJet'])} events\")\n",
    "            if \"bTaggingWeight\" not in f[\"Events\"].keys():\n",
    "                print(f\"bTaggingWeight not found in {key}, file has {len(f['Events']['nJet'])} events\")\n",
    "            if \"jetPUIdWeight\" not in f[\"Events\"].keys():\n",
    "                print(f\"jetPUIdWeight not found in {key}, file has {len(f['Events']['nJet'])} events\")\n",
    "        break"
   ]
  },
  {
   "cell_type": "code",
   "execution_count": 5,
   "metadata": {},
   "outputs": [],
   "source": [
    "# key = 'QCD_Pt-30To50_MuEnriched'\n",
    "key = 'ttbar_SemiLeptonic'\n",
    "# key = 'DYJetsToLL'\n",
    "# key = 'Tchannel'\n",
    "# key = 'QCD_Pt-80To120_MuEnriched'\n",
    "# key = 'QCD_Pt-1000_MuEnriched'\n",
    "# key = 'QCD_Pt-600To800_MuEnriched'\n",
    "# key = 'QCD_Pt-470To600_MuEnriched'\n",
    "# key = 'WJetsToLNu_1J'\n",
    "# key = 'tw_top'\n",
    "# key = 'ZZTo2Q2L'\n",
    "# key = 'Schannel'\n",
    "# key = 'WZTo2Q2L'\n",
    "# key = 'WJetsToLNu_2J'\n",
    "# key = 'QCD_Pt-800To1000_MuEnriched'\n",
    "# key = 'QCD_Pt-15To20_MuEnriched'\n",
    "# key = 'ttbar_FullyLeptonic'\n",
    "# key = 'Tbarchannel'\n",
    "# key = 'QCD_Pt-50To80_MuEnriched'\n",
    "# key = 'WWTolnulnu'\n",
    "# key = 'QCD_Pt-170To300_MuEnriched'\n",
    "# key = 'ZZTo2L2Nu'\n",
    "# key = 'WWTo2L2Nu'\n",
    "# key = 'WJetsToLNu_0J'\n",
    "# key = 'QCD_Pt-120To170_MuEnriched'\n",
    "# key = 'tw_antitop'\n",
    "# key = 'QCD_Pt-300To470_MuEnriched'\n",
    "# key = 'QCD_Pt-20To30_MuEnriched'\n"
   ]
  },
  {
   "cell_type": "code",
   "execution_count": 6,
   "metadata": {},
   "outputs": [],
   "source": [
    "\n",
    "for file in data[\"MC_mu\"][key]:\n",
    "    sampleFile = file\n",
    "    break"
   ]
  },
  {
   "cell_type": "code",
   "execution_count": 16,
   "metadata": {},
   "outputs": [],
   "source": [
    "# Now check the output file\n",
    "import uproot\n",
    "import correctionlib\n",
    "with uproot.open(sampleFile) as f:\n",
    "    tree = f[\"Events\"]\n",
    "    # print(\"Branches in the output tree:\", tree.keys())\n",
    "    \n",
    "    # Read a few entries of the new branch\n",
    "    # lhe = tree[\"LHEWeight_originalXWGTUP\"].array(library=\"np\") \n",
    "    # lhe_signs = tree[\"LHEWeightSign\"].array(library=\"np\")\n",
    "\n",
    "\n",
    "    muonID = tree[\"MuonIDWeight\"].array(library=\"np\")\n",
    "    muonHLT = tree[\"MuonHLTWeight\"].array(library=\"np\")\n",
    "    muonPt = tree[\"Muon_pt\"].array(library=\"ak\")\n",
    "    muonEta = tree[\"Muon_eta\"].array(library=\"ak\")\n",
    "    muonTightID = tree[\"Muon_tightId\"].array(library=\"ak\")\n",
    "    muonIso = tree[\"Muon_pfRelIso04_all\"].array(library=\"ak\")\n",
    "    jetID = tree[\"Jet_jetId\"].array(library=\"ak\")\n",
    "    jetPUID = tree[\"Jet_puId\"].array(library=\"ak\")\n",
    "    jetBTag = tree[\"Jet_btagDeepFlavB\"].array(library=\"ak\")\n",
    "    \n",
    "\n",
    "\n",
    "\n",
    "    "
   ]
  },
  {
   "cell_type": "code",
   "execution_count": 17,
   "metadata": {},
   "outputs": [
    {
     "name": "stdout",
     "output_type": "stream",
     "text": [
      "[0.241, 0.00408, 0.98, 0.989, 0.0115, 0.0129, 0.0609, 0.0633, 0.0443]\n",
      "[0.0362, 0.989, 0.0108, 0.035, 0.998, 0.0577, 0.0583, 0.0609]\n",
      "[0.00421, 0.291, 0.978, 0.0144, 0.00763, 0.0503]\n",
      "[0.518, 0.0376, 0.0148, 0.0243, 0.999, 0.13]\n",
      "[0.00627, 0.186, 0.816, 0.939, 0.00296, 0.0367, 0.0467, 0.0526, 0.0627]\n",
      "[0.00825, 0.00457, 0.0167, 0.436, 0.00683, ... 0.301, 0.00908, 0.0405, 0.0171]\n",
      "[0.148, 0.00364, 0.00437, 0.00972, 0.999, ... 0.982, 0.0466, 0.153, 0.0583, 0.0783]\n",
      "[0.00479, 0.983, 0.079, 0.618, 0.141, ... 0.334, 0.0515, 0.0864, 0.0632, 0.0561]\n",
      "[0.00385, 0.0157, 0.066, 0.999, 0.956, 0.0306, 0.012, 0.0536, 0.0214, 0.0514]\n",
      "[0.615, 0.0948, 0.00734, 0.00322, 0.513, 0.0573]\n"
     ]
    }
   ],
   "source": [
    "for i in range(10):\n",
    "    print(jetBTag[i])"
   ]
  },
  {
   "cell_type": "code",
   "execution_count": 8,
   "metadata": {},
   "outputs": [
    {
     "data": {
      "text/plain": [
       "array([0.9936691 , 0.96720463, 0.99842495, ..., 0.96164095, 0.968223  ,\n",
       "       1.0007148 ], dtype=float32)"
      ]
     },
     "execution_count": 8,
     "metadata": {},
     "output_type": "execute_result"
    }
   ],
   "source": [
    "muonHLT"
   ]
  },
  {
   "cell_type": "code",
   "execution_count": 9,
   "metadata": {},
   "outputs": [],
   "source": [
    "# Print first 10 events: original LHE weight and its sign\n",
    "# startIdx = 100\n",
    "# endIdx = 110\n",
    "# print(\"\\nSample File:\", sampleFile)\n",
    "# print(f\"{'Event':>5} | {'LHEWeight':>12} | {'LHEWeightSign':>14}\")\n",
    "# print(\"-\" * 37)\n",
    "# for i, (w, s) in enumerate(zip(lhe[startIdx:endIdx], lhe_signs[startIdx:endIdx]), start=startIdx):\n",
    "#     print(f\"{i:5d} | {w:12.6f} | {s:14.6f}\")"
   ]
  },
  {
   "cell_type": "code",
   "execution_count": 10,
   "metadata": {},
   "outputs": [
    {
     "name": "stdout",
     "output_type": "stream",
     "text": [
      "Event | MuonIDWeight |   calculated |  Check |                                  Muon_pt |                                 Muon_eta |              isTight\n",
      "------------------------------------------------------------------------------------------------------------------------------------------------------------------------------------\n",
      "    0 |     0.989549 |     0.989549 |   ✅    |                                   105.88 |                                     1.55 |                 True\n",
      "    1 |     0.986421 |     0.986421 |   ✅    |                            104.71, 46.95 |                             -0.60, -1.32 |           True, True\n",
      "    2 |     0.989909 |     0.989909 |   ✅    |                                    59.63 |                                    -1.29 |                 True\n",
      "    3 |     0.979124 |     0.979124 |   ✅    |                             74.30, 20.28 |                             -1.10, -0.45 |           True, True\n",
      "    4 |     0.986421 |     0.986421 |   ✅    |                                   211.40 |                                    -0.25 |                 True\n",
      "    5 |     0.979124 |     0.979124 |   ✅    |                            126.26, 13.80 |                             -1.17, -2.32 |           True, True\n",
      "    6 |     0.989549 |     0.989549 |   ✅    |                             68.29, 17.32 |                             -1.57, -0.09 |           True, True\n",
      "    7 |     0.979944 |     0.979944 |   ✅    |                      51.02, 42.61, 24.41 |                      -1.05, -1.42, -1.42 |     True, True, True\n",
      "    8 |     0.989549 |     0.989549 |   ✅    |                             129.95, 3.78 |                              1.40, -1.54 |           True, True\n",
      "    9 |     0.979124 |     0.979124 |   ✅    |                                   150.41 |                                    -1.07 |                 True\n"
     ]
    }
   ],
   "source": [
    "import numpy as np\n",
    "startIdx = 0\n",
    "endIdx = len(muonHLT)\n",
    "endIdx = 10\n",
    "print(f\"{'Event':>5} | {'MuonIDWeight':>12} | {'calculated':>12} | {'Check':>6} | {'Muon_pt':>40} | {'Muon_eta':>40} | {'isTight':>20}\")\n",
    "print(\"-\" * 180)\n",
    "\n",
    "IDFile = f\"/home/mukund/Projects/updatedCoffea/Coffea_Analysis/src/SFs/{era}_mu_ID.json\"\n",
    "IDeval = correctionlib.CorrectionSet.from_file(IDFile)\n",
    "\n",
    "for i in range(startIdx, endIdx):\n",
    "    pt_list = muonPt[i]  # awkward array of muon pts in this event\n",
    "    eta_list = muonEta[i]  # awkward array of muon etas in this event\n",
    "    tightID_list = muonTightID[i]  # awkward array of muon tight IDs in this event\n",
    "    iso_list = muonIso[i]  # awkward array of muon isolations in this event\n",
    "\n",
    "    # Leading muon\n",
    "    leading_idx = -1\n",
    "    leading_pt = 0.0\n",
    "\n",
    "    for j in range(len(pt_list)):\n",
    "        if tightID_list[j] and pt_list[j] > 26 and abs(eta_list[j]) < 2.4 and tightID_list[j] and iso_list[j] < 0.06:\n",
    "            if pt_list[j] > leading_pt:\n",
    "                leading_idx = j\n",
    "                leading_pt = pt_list[j]\n",
    "\n",
    "    leading_muon_pt = pt_list[leading_idx]\n",
    "    leading_muon_eta = eta_list[leading_idx]\n",
    "\n",
    "    # Evaluate ID SF\n",
    "    IDSF = IDeval[\"NUM_TightID_DEN_TrackerMuons\"].evaluate(\n",
    "        f\"{era[2:]}_UL\", abs(leading_muon_eta), leading_muon_pt, 'sf'\n",
    "    )\n",
    "\n",
    "    isIDCLOSE = np.isclose(muonID[i], IDSF, rtol=1e-5)\n",
    "    # Decide check mark\n",
    "    IDcheck_mark = \"✅\" if isIDCLOSE else \"❌\"\n",
    "\n",
    "\n",
    "    # Format pt and eta lists nicely\n",
    "    pt_str = \", \".join(f\"{pt:.2f}\" for pt in pt_list)\n",
    "    eta_str = \", \".join(f\"{eta:.2f}\" for eta in eta_list)\n",
    "    tightID_str = \", \".join(str(tid) for tid in tightID_list)\n",
    "\n",
    "    # Print the row\n",
    "    if not isIDCLOSE:\n",
    "        print(f\"{i:5d} | {muonID[i]:12.6f} | {IDSF:12.6f} | {IDcheck_mark:^6} | {pt_str:>40} | {eta_str:>40} | {tightID_str:>20}  <-- MISMATCH\")\n",
    "    print(f\"{i:5d} | {muonID[i]:12.6f} | {IDSF:12.6f} | {IDcheck_mark:^6} | {pt_str:>40} | {eta_str:>40} | {tightID_str:>20}\")\n"
   ]
  },
  {
   "cell_type": "code",
   "execution_count": 11,
   "metadata": {},
   "outputs": [
    {
     "name": "stdout",
     "output_type": "stream",
     "text": [
      "Event | MuonHLTWeight |   calculated |  Check |                                  Muon_pt |                                 Muon_eta |              isTight\n",
      "------------------------------------------------------------------------------------------------------------------------------------------------------------------------------------\n",
      "    0 |     0.993669 |     0.993669 |   ✅    |                                   105.88 |                                     1.55 |                 True\n",
      "    1 |     0.967205 |     0.967205 |   ✅    |                            104.71, 46.95 |                             -0.60, -1.32 |           True, True\n",
      "    2 |     0.998425 |     0.998425 |   ✅    |                                    59.63 |                                    -1.29 |                 True\n",
      "    3 |     0.959718 |     0.959718 |   ✅    |                             74.30, 20.28 |                             -1.10, -0.45 |           True, True\n",
      "    4 |     0.966143 |     0.966143 |   ✅    |                                   211.40 |                                    -0.25 |                 True\n",
      "    5 |     0.954815 |     0.954815 |   ✅    |                            126.26, 13.80 |                             -1.17, -2.32 |           True, True\n",
      "    6 |     0.993669 |     0.993669 |   ✅    |                             68.29, 17.32 |                             -1.57, -0.09 |           True, True\n",
      "    7 |     0.961641 |     0.961641 |   ✅    |                      51.02, 42.61, 24.41 |                      -1.05, -1.42, -1.42 |     True, True, True\n",
      "    8 |     0.985201 |     0.985201 |   ✅    |                             129.95, 3.78 |                              1.40, -1.54 |           True, True\n",
      "    9 |     0.954815 |     0.954815 |   ✅    |                                   150.41 |                                    -1.07 |                 True\n"
     ]
    }
   ],
   "source": [
    "\n",
    "# import numpy as np\n",
    "startIdx = 0\n",
    "endIdx = len(muonHLT)\n",
    "endIdx = 10\n",
    "print(f\"{'Event':>5} | {'MuonHLTWeight':>12} | {'calculated':>12} | {'Check':>6} | {'Muon_pt':>40} | {'Muon_eta':>40} | {'isTight':>20}\")\n",
    "print(\"-\" * 180)\n",
    "\n",
    "HLTFile = f\"/home/mukund/Projects/updatedCoffea/Coffea_Analysis/src/SFs/{era}_mu_HLT.json\"\n",
    "HLTeval = correctionlib.CorrectionSet.from_file(HLTFile)\n",
    "\n",
    "for i in range(startIdx, endIdx):\n",
    "    pt_list = muonPt[i]  # awkward array of muon pts in this event\n",
    "    eta_list = muonEta[i]  # awkward array of muon etas in this event\n",
    "    tightID_list = muonTightID[i]  # awkward array of muon tight IDs in this event\n",
    "    iso_list = muonIso[i]  # awkward array of muon isolations in this event\n",
    "\n",
    "    # Leading muon\n",
    "    leading_idx = -1\n",
    "    leading_pt = 0.0\n",
    "\n",
    "    for j in range(len(pt_list)):\n",
    "        if tightID_list[j] and pt_list[j] > 26 and abs(eta_list[j]) < 2.4 and tightID_list[j] and iso_list[j] < 0.06:\n",
    "            if pt_list[j] > leading_pt:\n",
    "                leading_idx = j\n",
    "                leading_pt = pt_list[j]\n",
    "\n",
    "    leading_muon_pt = pt_list[leading_idx]\n",
    "    leading_muon_eta = eta_list[leading_idx]\n",
    "\n",
    "    # print(\"Leading muon pt:\", leading_muon_pt)\n",
    "\n",
    "\n",
    "    if leading_muon_pt > 199.99:\n",
    "        leading_muon_pt = 199.99\n",
    "\n",
    "    # Evaluate HLT SF\n",
    "    HLTSF = HLTeval[\"NUM_IsoMu24_or_IsoTkMu24_DEN_CutBasedIdTight_and_PFIsoTight\"].evaluate(abs(leading_muon_eta), leading_muon_pt, 'nominal')\n",
    "\n",
    "\n",
    "    isHLTCLOSE = np.isclose(muonHLT[i], HLTSF, rtol=1e-5)\n",
    "    # Decide check mark\n",
    "    HLTcheck_mark = \"✅\" if isHLTCLOSE else \"❌\"\n",
    "\n",
    "\n",
    "    # Format pt and eta lists nicely\n",
    "    pt_str = \", \".join(f\"{pt:.2f}\" for pt in pt_list)\n",
    "    eta_str = \", \".join(f\"{eta:.2f}\" for eta in eta_list)\n",
    "    tightID_str = \", \".join(str(tid) for tid in tightID_list)\n",
    "\n",
    "    # Print the row\n",
    "    print(f\"{i:5d} | {muonHLT[i]:12.6f} | {HLTSF:12.6f} | {HLTcheck_mark:^6} | {pt_str:>40} | {eta_str:>40} | {tightID_str:>20}\")\n",
    "    if not isHLTCLOSE:\n",
    "        print(f\"{i:5d} | {muonHLT[i]:12.6f} | {HLTSF:12.6f} | {HLTcheck_mark:^6} | {pt_str:>40} | {eta_str:>40} | {tightID_str:>20}  <-- MISMATCH\")\n"
   ]
  },
  {
   "cell_type": "code",
   "execution_count": null,
   "metadata": {},
   "outputs": [],
   "source": []
  }
 ],
 "metadata": {
  "kernelspec": {
   "display_name": "newcoffea",
   "language": "python",
   "name": "python3"
  },
  "language_info": {
   "codemirror_mode": {
    "name": "ipython",
    "version": 3
   },
   "file_extension": ".py",
   "mimetype": "text/x-python",
   "name": "python",
   "nbconvert_exporter": "python",
   "pygments_lexer": "ipython3",
   "version": "3.11.8"
  }
 },
 "nbformat": 4,
 "nbformat_minor": 2
}
